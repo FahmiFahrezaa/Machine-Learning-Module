{
 "cells": [
  {
   "cell_type": "code",
   "execution_count": 19,
   "id": "8d30f405",
   "metadata": {},
   "outputs": [],
   "source": [
    "import pandas as pd\n",
    "from sklearn.model_selection import train_test_split\n",
    "\n",
    "data = pd.read_csv(\"50_Startups.csv\")\n",
    "X = data.iloc[:, :-1].values\n",
    "y = data.iloc[:, -1].values\n",
    "X_train, X_test, y_train, y_test = train_test_split(X, y, test_size=0.2, random_state=0)\n"
   ]
  },
  {
   "cell_type": "markdown",
   "id": "642137fc",
   "metadata": {},
   "source": [
    "# R&D spend"
   ]
  },
  {
   "cell_type": "code",
   "execution_count": 20,
   "id": "e4b1e787",
   "metadata": {},
   "outputs": [
    {
     "name": "stdout",
     "output_type": "stream",
     "text": [
      "Coefficient: [0.8516228]\n",
      "Intercept: 48416.297661385026\n"
     ]
    }
   ],
   "source": [
    "from sklearn.linear_model import LinearRegression\n",
    "\n",
    "regresi = LinearRegression()\n",
    "X_train_rd = X_train[:, [0]]\n",
    "regresi.fit(X_train_rd, y_train)\n",
    "\n",
    "X_test_rd = X_test[:, [0]]\n",
    "y_pred_rd = regresi.predict(X_test_rd)\n",
    "\n",
    "print(\"Coefficient:\", regresi.coef_)\n",
    "print(\"Intercept:\", regresi.intercept_)"
   ]
  },
  {
   "cell_type": "markdown",
   "id": "939f83cc",
   "metadata": {},
   "source": [
    "# Administration "
   ]
  },
  {
   "cell_type": "code",
   "execution_count": 21,
   "id": "533e922d",
   "metadata": {},
   "outputs": [
    {
     "name": "stdout",
     "output_type": "stream",
     "text": [
      "Coefficient: [0.51986565]\n",
      "Intercept: 45299.491408363385\n"
     ]
    }
   ],
   "source": [
    "regresi = LinearRegression()\n",
    "\n",
    "X_train_admin = X_train[:, [1]]\n",
    "regresi.fit(X_train_admin, y_train)\n",
    "\n",
    "X_test_admin = X_test[:, [1]]\n",
    "y_pred_admin = regresi.predict(X_test_admin)\n",
    "\n",
    "print(\"Coefficient:\", regresi.coef_)\n",
    "print(\"Intercept:\", regresi.intercept_)\n"
   ]
  },
  {
   "cell_type": "markdown",
   "id": "7ce3122a",
   "metadata": {},
   "source": [
    "# Marketing spend"
   ]
  },
  {
   "cell_type": "code",
   "execution_count": 25,
   "id": "a28ba45e",
   "metadata": {},
   "outputs": [
    {
     "name": "stdout",
     "output_type": "stream",
     "text": [
      "Coefficient: [0.24606293]\n",
      "Intercept: 59707.03350741452\n"
     ]
    }
   ],
   "source": [
    "regresi = LinearRegression()\n",
    "\n",
    "X_train_marketing = X_train[:, [2]]\n",
    "regresi.fit(X_train_marketing, y_train)\n",
    "\n",
    "X_test_marketing = X_test[:, [2]]\n",
    "y_pred_marketing = regresi.predict(X_test_marketing)\n",
    "\n",
    "print(\"Coefficient:\", regresi.coef_)\n",
    "print(\"Intercept:\", regresi.intercept_)\n"
   ]
  },
  {
   "cell_type": "markdown",
   "id": "e7626121",
   "metadata": {},
   "source": [
    "# All 3 features"
   ]
  },
  {
   "cell_type": "code",
   "execution_count": 27,
   "id": "c5ffb3ae",
   "metadata": {},
   "outputs": [
    {
     "name": "stdout",
     "output_type": "stream",
     "text": [
      "Coefficients: [ 8.66383692e+01 -8.72645791e+02  7.86007422e+02  7.73467193e-01\n",
      "  3.28845975e-02  3.66100259e-02]\n",
      "Intercept: 42467.52924852117\n"
     ]
    }
   ],
   "source": [
    "import pandas as pd\n",
    "from sklearn.compose import ColumnTransformer\n",
    "from sklearn.preprocessing import OneHotEncoder\n",
    "from sklearn.model_selection import train_test_split\n",
    "from sklearn.linear_model import LinearRegression\n",
    "\n",
    "data = pd.read_csv(\"50_Startups.csv\")\n",
    "\n",
    "X = data.iloc[:, :-1].values\n",
    "y = data.iloc[:, -1].values\n",
    "\n",
    "ct = ColumnTransformer(transformers=[('encoder', OneHotEncoder(), [3])], remainder='passthrough')\n",
    "X = ct.fit_transform(X)\n",
    "X_train, X_test, y_train, y_test = train_test_split(X, y, test_size=0.2, random_state=0)\n",
    "\n",
    "regresi = LinearRegression()\n",
    "regresi.fit(X_train, y_train)\n",
    "y_pred = regresi.predict(X_test)\n",
    "\n",
    "print(\"Coefficients:\", regresi.coef_)\n",
    "print(\"Intercept:\", regresi.intercept_)\n"
   ]
  },
  {
   "cell_type": "code",
   "execution_count": null,
   "id": "b1ca6546",
   "metadata": {},
   "outputs": [],
   "source": []
  }
 ],
 "metadata": {
  "kernelspec": {
   "display_name": "Python 3",
   "language": "python",
   "name": "python3"
  },
  "language_info": {
   "codemirror_mode": {
    "name": "ipython",
    "version": 3
   },
   "file_extension": ".py",
   "mimetype": "text/x-python",
   "name": "python",
   "nbconvert_exporter": "python",
   "pygments_lexer": "ipython3",
   "version": "3.8.8"
  }
 },
 "nbformat": 4,
 "nbformat_minor": 5
}
