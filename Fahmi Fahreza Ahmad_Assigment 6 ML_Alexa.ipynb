{
 "cells": [
  {
   "cell_type": "markdown",
   "metadata": {},
   "source": [
    "Note: Download dan simpan semua dataset di folder yang sama dengan file notebook untuk memudahkan, upload kembali file ini untuk submit pada LMS. Jangan lupa di save terlebih dahulu setelah mengerjakan"
   ]
  },
  {
   "cell_type": "markdown",
   "metadata": {},
   "source": [
    "## Decision Tree\n",
    "\n",
    "Task: make a decision tree classifier"
   ]
  },
  {
   "cell_type": "code",
   "execution_count": 1,
   "metadata": {},
   "outputs": [
    {
     "name": "stdout",
     "output_type": "stream",
     "text": [
      "(891, 12)\n"
     ]
    },
    {
     "data": {
      "text/html": [
       "<div>\n",
       "<style scoped>\n",
       "    .dataframe tbody tr th:only-of-type {\n",
       "        vertical-align: middle;\n",
       "    }\n",
       "\n",
       "    .dataframe tbody tr th {\n",
       "        vertical-align: top;\n",
       "    }\n",
       "\n",
       "    .dataframe thead th {\n",
       "        text-align: right;\n",
       "    }\n",
       "</style>\n",
       "<table border=\"1\" class=\"dataframe\">\n",
       "  <thead>\n",
       "    <tr style=\"text-align: right;\">\n",
       "      <th></th>\n",
       "      <th>Survived</th>\n",
       "      <th>Pclass</th>\n",
       "      <th>Sex</th>\n",
       "      <th>Fare</th>\n",
       "      <th>Embarked</th>\n",
       "      <th>Deck</th>\n",
       "      <th>Relatives</th>\n",
       "      <th>Isalone</th>\n",
       "      <th>Title</th>\n",
       "      <th>Age_Class</th>\n",
       "      <th>Age_Pclass</th>\n",
       "      <th>FarePerPerson</th>\n",
       "    </tr>\n",
       "  </thead>\n",
       "  <tbody>\n",
       "    <tr>\n",
       "      <th>0</th>\n",
       "      <td>0</td>\n",
       "      <td>3</td>\n",
       "      <td>1</td>\n",
       "      <td>1</td>\n",
       "      <td>2</td>\n",
       "      <td>9</td>\n",
       "      <td>1</td>\n",
       "      <td>0</td>\n",
       "      <td>1</td>\n",
       "      <td>3</td>\n",
       "      <td>9</td>\n",
       "      <td>0</td>\n",
       "    </tr>\n",
       "    <tr>\n",
       "      <th>1</th>\n",
       "      <td>1</td>\n",
       "      <td>1</td>\n",
       "      <td>0</td>\n",
       "      <td>4</td>\n",
       "      <td>0</td>\n",
       "      <td>3</td>\n",
       "      <td>1</td>\n",
       "      <td>0</td>\n",
       "      <td>3</td>\n",
       "      <td>6</td>\n",
       "      <td>6</td>\n",
       "      <td>2</td>\n",
       "    </tr>\n",
       "    <tr>\n",
       "      <th>2</th>\n",
       "      <td>1</td>\n",
       "      <td>3</td>\n",
       "      <td>0</td>\n",
       "      <td>2</td>\n",
       "      <td>2</td>\n",
       "      <td>9</td>\n",
       "      <td>0</td>\n",
       "      <td>1</td>\n",
       "      <td>2</td>\n",
       "      <td>4</td>\n",
       "      <td>12</td>\n",
       "      <td>2</td>\n",
       "    </tr>\n",
       "    <tr>\n",
       "      <th>3</th>\n",
       "      <td>1</td>\n",
       "      <td>1</td>\n",
       "      <td>0</td>\n",
       "      <td>4</td>\n",
       "      <td>2</td>\n",
       "      <td>3</td>\n",
       "      <td>1</td>\n",
       "      <td>0</td>\n",
       "      <td>3</td>\n",
       "      <td>6</td>\n",
       "      <td>6</td>\n",
       "      <td>2</td>\n",
       "    </tr>\n",
       "    <tr>\n",
       "      <th>4</th>\n",
       "      <td>0</td>\n",
       "      <td>3</td>\n",
       "      <td>1</td>\n",
       "      <td>2</td>\n",
       "      <td>2</td>\n",
       "      <td>9</td>\n",
       "      <td>0</td>\n",
       "      <td>1</td>\n",
       "      <td>1</td>\n",
       "      <td>6</td>\n",
       "      <td>18</td>\n",
       "      <td>2</td>\n",
       "    </tr>\n",
       "  </tbody>\n",
       "</table>\n",
       "</div>"
      ],
      "text/plain": [
       "   Survived  Pclass  Sex  Fare  Embarked  Deck  Relatives  Isalone  Title  \\\n",
       "0         0       3    1     1         2     9          1        0      1   \n",
       "1         1       1    0     4         0     3          1        0      3   \n",
       "2         1       3    0     2         2     9          0        1      2   \n",
       "3         1       1    0     4         2     3          1        0      3   \n",
       "4         0       3    1     2         2     9          0        1      1   \n",
       "\n",
       "   Age_Class  Age_Pclass  FarePerPerson  \n",
       "0          3           9              0  \n",
       "1          6           6              2  \n",
       "2          4          12              2  \n",
       "3          6           6              2  \n",
       "4          6          18              2  "
      ]
     },
     "execution_count": 1,
     "metadata": {},
     "output_type": "execute_result"
    }
   ],
   "source": [
    "import pandas as pd\n",
    "import numpy as np\n",
    "import matplotlib.pyplot as plt\n",
    "import seaborn as sns\n",
    "%matplotlib inline\n",
    "\n",
    "df = pd.read_csv('Titanic_Train.csv')\n",
    "print(df.shape)\n",
    "df.head()\n",
    "\n"
   ]
  },
  {
   "cell_type": "code",
   "execution_count": 2,
   "metadata": {},
   "outputs": [
    {
     "name": "stdout",
     "output_type": "stream",
     "text": [
      "(891, 11) (891,)\n"
     ]
    }
   ],
   "source": [
    "x = df.drop(['Survived'], axis=1)\n",
    "y = df['Survived']\n",
    "\n",
    "print(x.shape, y.shape)\n",
    "\n",
    "from sklearn.model_selection import train_test_split\n",
    "x_train, x_test, y_train, y_test = train_test_split(x, y, test_size=0.25, random_state=42)"
   ]
  },
  {
   "cell_type": "code",
   "execution_count": 3,
   "metadata": {},
   "outputs": [
    {
     "name": "stdout",
     "output_type": "stream",
     "text": [
      "Akurasi model: 0.8161434977578476\n"
     ]
    }
   ],
   "source": [
    "# deklarasikan model decision tree dan lakukanlah fitting antara fitur dengan targetnya \n",
    "# (notes: boleh menggunakan algoritma ID3 ataupun CART, cukup lakukan salah satu)\n",
    "# jangan lupa untuk mengimport librarynya terlebih dahulu\n",
    "\n",
    "# Import library yang dibutuhkan\n",
    "import pandas as pd\n",
    "from sklearn.tree import DecisionTreeClassifier\n",
    "from sklearn.model_selection import train_test_split\n",
    "from sklearn.metrics import accuracy_score\n",
    "\n",
    "# Load dataset Titanic_train.csv\n",
    "df = pd.read_csv('Titanic_train.csv')\n",
    "\n",
    "# Mengganti nilai NaN pada kolom Age dengan median\n",
    "df['Age_Class'].fillna(df['Age_Class'].median(), inplace=True)\n",
    "\n",
    "# Mengganti nilai NaN pada kolom Embarked dengan modus\n",
    "df['Embarked'].fillna(df['Embarked'].mode()[0], inplace=True)\n",
    "\n",
    "# Membuat objek DecisionTreeClassifier\n",
    "clf = DecisionTreeClassifier()\n",
    "\n",
    "# Melatih model dengan data latih\n",
    "clf.fit(x_train, y_train)\n",
    "\n",
    "# Memprediksi nilai target pada data uji\n",
    "y_pred = clf.predict(x_test)\n",
    "\n",
    "# Menghitung akurasi model\n",
    "accuracy = accuracy_score(y_test, y_pred)\n",
    "\n",
    "# Menampilkan akurasi model\n",
    "print('Akurasi model:', accuracy)"
   ]
  },
  {
   "cell_type": "code",
   "execution_count": 4,
   "metadata": {},
   "outputs": [
    {
     "name": "stdout",
     "output_type": "stream",
     "text": [
      "Model accuracy score: 0.8161\n"
     ]
    }
   ],
   "source": [
    "\n",
    "\n",
    "from sklearn.metrics import accuracy_score\n",
    "accuracy = accuracy_score(y_test, y_pred)\n",
    "\n",
    "print('Model accuracy score: {0:0.4f}'. format(accuracy))"
   ]
  },
  {
   "cell_type": "markdown",
   "metadata": {},
   "source": [
    "## SVM\n",
    "\n",
    "Task: make an SVM classifier"
   ]
  },
  {
   "cell_type": "code",
   "execution_count": 5,
   "metadata": {},
   "outputs": [
    {
     "name": "stdout",
     "output_type": "stream",
     "text": [
      "Model accuracy score: 0.3750\n"
     ]
    }
   ],
   "source": [
    "import pandas as pd\n",
    "from sklearn.model_selection import train_test_split\n",
    "from sklearn.svm import SVC\n",
    "\n",
    "data = pd.read_csv('apples_and_oranges.csv')\n",
    "\n",
    "# splitting data into training and test set\n",
    "training_set,test_set = train_test_split(data,test_size=0.2,random_state=1)\n",
    "\n",
    "# prepare data for applying it to svm\n",
    "x_train = training_set.iloc[:,0:2].values  # data\n",
    "y_train = training_set.iloc[:,2].values  # target\n",
    "x_test = test_set.iloc[:,0:2].values  # data\n",
    "y_test = test_set.iloc[:,2].values  # target\n",
    "\n",
    "# import the model library, declare the model, and fit the data, notes: use RBF and C=1\n",
    "#import\n",
    "model = SVC(kernel='rbf', C=1)\n",
    "model.fit(x_train, y_train)\n",
    "\n",
    "# perform prediction on x_test data\n",
    "y_pred = model.predict(x_test)\n",
    "\n",
    "# check the accuracy\n",
    "from sklearn.metrics import accuracy_score\n",
    "accuracy = accuracy_score(y_test, y_pred)\n",
    "print('Model accuracy score: {0:0.4f}'. format(accuracy_score(y_test, y_pred)))"
   ]
  },
  {
   "cell_type": "markdown",
   "metadata": {},
   "source": [
    "## Naive Bayes\n",
    "\n",
    "Task: make a naive bayes classifier"
   ]
  },
  {
   "cell_type": "code",
   "execution_count": 6,
   "metadata": {},
   "outputs": [
    {
     "name": "stdout",
     "output_type": "stream",
     "text": [
      "Naive Bayes model accuracy(in %): 95.0\n"
     ]
    }
   ],
   "source": [
    "from sklearn.datasets import load_iris\n",
    "from sklearn.naive_bayes import GaussianNB\n",
    "\n",
    "iris = load_iris()\n",
    "\n",
    "X = iris.data\n",
    "y = iris.target\n",
    "\n",
    "from sklearn.model_selection import train_test_split\n",
    "x_train, x_test, y_train, y_test = train_test_split(X, y, test_size=0.4, random_state=1)\n",
    "\n",
    "# import the model library, declare the model, and fit the data. Notes: use gaussian\n",
    "#import\n",
    "model = GaussianNB()\n",
    "model.fit(x_train, y_train)\n",
    "\n",
    "# making predictions on the testing set\n",
    "y_pred = model.predict(x_test)\n",
    "\n",
    "# comparing actual response values (y_test) with predicted response values (y_pred)\n",
    "from sklearn import metrics\n",
    "accuracy = metrics.accuracy_score(y_test, y_pred) * 100\n",
    "print(\"Naive Bayes model accuracy(in %):\", metrics.accuracy_score(y_test, y_pred)*100)"
   ]
  },
  {
   "cell_type": "markdown",
   "metadata": {},
   "source": [
    "## Logistic Regression\n",
    "\n",
    "Task: make a logistic regression classifier"
   ]
  },
  {
   "cell_type": "code",
   "execution_count": 7,
   "metadata": {},
   "outputs": [
    {
     "name": "stdout",
     "output_type": "stream",
     "text": [
      "Model accuracy score: 0.8750\n"
     ]
    }
   ],
   "source": [
    "import pandas as pd\n",
    "from sklearn.model_selection import train_test_split\n",
    "from sklearn.linear_model import LogisticRegression\n",
    "\n",
    "data = pd.read_csv('apples_and_oranges.csv')\n",
    "\n",
    "# splitting data into training and test set\n",
    "training_set,test_set = train_test_split(data,test_size=0.2,random_state=1)\n",
    "\n",
    "# prepare data for applying it to logistic regression\n",
    "x_train = training_set.iloc[:,0:2].values  # data\n",
    "y_train = training_set.iloc[:,2].values  # target\n",
    "x_test = test_set.iloc[:,0:2].values  # data\n",
    "y_test = test_set.iloc[:,2].values  # target\n",
    "\n",
    "# import the model library, declare the model, and fit the data.\n",
    "model = LogisticRegression()\n",
    "\n",
    "model.fit(x_train, y_train)\n",
    "\n",
    "# perform prediction on x_test data\n",
    "y_pred = model.predict(x_test)\n",
    "\n",
    "# check the accuracy\n",
    "from sklearn.metrics import accuracy_score\n",
    "print('Model accuracy score: {0:0.4f}'. format(accuracy_score(y_test, y_pred)))\n"
   ]
  }
 ],
 "metadata": {
  "kernelspec": {
   "display_name": "Python 3",
   "language": "python",
   "name": "python3"
  },
  "language_info": {
   "codemirror_mode": {
    "name": "ipython",
    "version": 3
   },
   "file_extension": ".py",
   "mimetype": "text/x-python",
   "name": "python",
   "nbconvert_exporter": "python",
   "pygments_lexer": "ipython3",
   "version": "3.8.8"
  }
 },
 "nbformat": 4,
 "nbformat_minor": 2
}
