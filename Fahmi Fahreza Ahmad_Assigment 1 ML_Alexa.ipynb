{
 "cells": [
  {
   "cell_type": "code",
   "execution_count": 1,
   "metadata": {
    "colab": {
     "base_uri": "https://localhost:8080/"
    },
    "id": "kST8_lwk9d7v",
    "outputId": "39568da2-eee6-4cd1-c081-1e6579203ad5"
   },
   "outputs": [
    {
     "name": "stdout",
     "output_type": "stream",
     "text": [
      "[[-1.63425333 -3.73308274  2.48280994]\n",
      " [ 3.84810984 -4.30899244  1.9902286 ]\n",
      " [ 4.23703162 -1.96416953  3.97511094]\n",
      " [ 0.08645968 -4.66426678  3.34017212]]\n"
     ]
    }
   ],
   "source": [
    "import numpy as np\n",
    "from sklearn import preprocessing\n",
    "input_data = np.random.uniform(-6.0,6.0, size=(4,3))\n",
    "print(input_data)"
   ]
  },
  {
   "cell_type": "code",
   "execution_count": 2,
   "metadata": {
    "colab": {
     "base_uri": "https://localhost:8080/"
    },
    "id": "bAMxza3R9zAb",
    "outputId": "61b7a721-e2e1-4551-aec6-13f8b594ebdd"
   },
   "outputs": [
    {
     "name": "stdout",
     "output_type": "stream",
     "text": [
      "Binarized data:\n",
      " [[0. 0. 1.]\n",
      " [1. 0. 1.]\n",
      " [1. 0. 1.]\n",
      " [0. 0. 1.]]\n"
     ]
    }
   ],
   "source": [
    "# Lakukanlah binarization terhadap input_data dengan threshold 0.7\n",
    "\n",
    "from sklearn.preprocessing import Binarizer\n",
    "\n",
    "data_binarized = Binarizer(threshold = 0.7)\n",
    "data_binarizer = data_binarized.transform(input_data)\n",
    "print(\"Binarized data:\\n\", data_binarizer)"
   ]
  },
  {
   "cell_type": "code",
   "execution_count": 3,
   "metadata": {
    "id": "VStZvSZ_9d7z",
    "outputId": "8cecc1f6-2dc4-4447-fe8e-87bcd8fa7ab0"
   },
   "outputs": [
    {
     "name": "stdout",
     "output_type": "stream",
     "text": [
      "Min Max scaled data:\n",
      " [[1.         0.         0.        ]\n",
      " [0.76008619 0.81668209 0.96259777]\n",
      " [0.         0.68850718 0.41576656]\n",
      " [0.89338601 1.         1.        ]] \n",
      "\n",
      "Max Abs scaled data:\n",
      " [[ 1.         -0.08065821 -0.40113131]\n",
      " [ 0.69707457  0.80189599  0.94759456]\n",
      " [-0.26264273  0.66338273  0.18141224]\n",
      " [ 0.86538462  1.          1.        ]] \n",
      "\n"
     ]
    }
   ],
   "source": [
    "# Lakukanlah scalling dengan kedua metode normalization terhadap input_data\n",
    "\n",
    "from sklearn.preprocessing import MinMaxScaler, MaxAbsScaler\n",
    "\n",
    "input_data = np.random.uniform(-6.0,6.0, size=(4,3))\n",
    "\n",
    "scaler1 = MinMaxScaler()\n",
    "scaled_data1 = scaler1.fit_transform(input_data)\n",
    "print (\"Min Max scaled data:\\n\", scaled_data1,'\\n')\n",
    "\n",
    "scaler2 = MaxAbsScaler()\n",
    "scaled_data2 = scaler2.fit_transform(input_data)\n",
    "print (\"Max Abs scaled data:\\n\", scaled_data2,'\\n')"
   ]
  },
  {
   "cell_type": "code",
   "execution_count": 4,
   "metadata": {
    "id": "23yom_ZT9d71",
    "outputId": "c4a2592e-cacb-4276-c179-54d396490cd5"
   },
   "outputs": [
    {
     "name": "stdout",
     "output_type": "stream",
     "text": [
      "Normalized data:\n",
      " [[-1.04919207 -0.58071154  1.2250662 ]\n",
      " [-0.44369963 -1.32479141 -0.58749602]\n",
      " [ 1.63750248  1.16749674  0.66884171]\n",
      " [-0.14461078  0.73800622 -1.30641189]]\n"
     ]
    }
   ],
   "source": [
    "# Lakukanlah scaling dengan metode standardization terhadap input_data\n",
    "\n",
    "from sklearn.preprocessing import StandardScaler\n",
    "input_data = np.random.uniform(-6.0,6.0, size=(4,3))\n",
    "\n",
    "std_data = StandardScaler()\n",
    "scaler = std_data.fit_transform(input_data)\n",
    "print (\"Normalized data:\\n\", scaler)"
   ]
  },
  {
   "cell_type": "code",
   "execution_count": 5,
   "metadata": {
    "colab": {
     "base_uri": "https://localhost:8080/",
     "height": 206
    },
    "id": "nMIYvPHE9d71",
    "outputId": "b483cdf3-6fe5-410c-a389-0ca43c2150c5"
   },
   "outputs": [
    {
     "data": {
      "text/html": [
       "<div>\n",
       "<style scoped>\n",
       "    .dataframe tbody tr th:only-of-type {\n",
       "        vertical-align: middle;\n",
       "    }\n",
       "\n",
       "    .dataframe tbody tr th {\n",
       "        vertical-align: top;\n",
       "    }\n",
       "\n",
       "    .dataframe thead th {\n",
       "        text-align: right;\n",
       "    }\n",
       "</style>\n",
       "<table border=\"1\" class=\"dataframe\">\n",
       "  <thead>\n",
       "    <tr style=\"text-align: right;\">\n",
       "      <th></th>\n",
       "      <th>name</th>\n",
       "      <th>color</th>\n",
       "      <th>type</th>\n",
       "    </tr>\n",
       "  </thead>\n",
       "  <tbody>\n",
       "    <tr>\n",
       "      <th>0</th>\n",
       "      <td>J.A.R.V.I.S</td>\n",
       "      <td>blue</td>\n",
       "      <td>live</td>\n",
       "    </tr>\n",
       "    <tr>\n",
       "      <th>1</th>\n",
       "      <td>WALL-E</td>\n",
       "      <td>brown</td>\n",
       "      <td>cartoon</td>\n",
       "    </tr>\n",
       "    <tr>\n",
       "      <th>2</th>\n",
       "      <td>Baymax</td>\n",
       "      <td>white</td>\n",
       "      <td>cartoon</td>\n",
       "    </tr>\n",
       "    <tr>\n",
       "      <th>3</th>\n",
       "      <td>BB-8</td>\n",
       "      <td>yellow</td>\n",
       "      <td>live</td>\n",
       "    </tr>\n",
       "    <tr>\n",
       "      <th>4</th>\n",
       "      <td>Cortana</td>\n",
       "      <td>blue</td>\n",
       "      <td>cartoon</td>\n",
       "    </tr>\n",
       "  </tbody>\n",
       "</table>\n",
       "</div>"
      ],
      "text/plain": [
       "          name   color     type\n",
       "0  J.A.R.V.I.S    blue     live\n",
       "1       WALL-E   brown  cartoon\n",
       "2       Baymax   white  cartoon\n",
       "3         BB-8  yellow     live\n",
       "4      Cortana    blue  cartoon"
      ]
     },
     "execution_count": 5,
     "metadata": {},
     "output_type": "execute_result"
    }
   ],
   "source": [
    "import pandas as pd\n",
    "\n",
    "df = pd.DataFrame({\n",
    "    'name': ['J.A.R.V.I.S', 'WALL-E', 'Baymax', 'BB-8', 'Cortana'],\n",
    "    'color': ['blue', 'brown', 'white', 'yellow', 'blue'],\n",
    "    'type': ['live', 'cartoon', 'cartoon', 'live', 'cartoon' ]\n",
    "    })\n",
    "df"
   ]
  },
  {
   "cell_type": "code",
   "execution_count": 8,
   "metadata": {
    "id": "nQEy7L5k9d71",
    "outputId": "1e5529f3-1d37-4d9d-d89c-ee31396d7365"
   },
   "outputs": [
    {
     "data": {
      "text/html": [
       "<div>\n",
       "<style scoped>\n",
       "    .dataframe tbody tr th:only-of-type {\n",
       "        vertical-align: middle;\n",
       "    }\n",
       "\n",
       "    .dataframe tbody tr th {\n",
       "        vertical-align: top;\n",
       "    }\n",
       "\n",
       "    .dataframe thead th {\n",
       "        text-align: right;\n",
       "    }\n",
       "</style>\n",
       "<table border=\"1\" class=\"dataframe\">\n",
       "  <thead>\n",
       "    <tr style=\"text-align: right;\">\n",
       "      <th></th>\n",
       "      <th>name</th>\n",
       "      <th>color</th>\n",
       "      <th>type</th>\n",
       "      <th>...</th>\n",
       "      <th>type_label</th>\n",
       "    </tr>\n",
       "  </thead>\n",
       "  <tbody>\n",
       "    <tr>\n",
       "      <th>0</th>\n",
       "      <td>J.A.R.V.I.S</td>\n",
       "      <td>blue</td>\n",
       "      <td>live</td>\n",
       "      <td>Ellipsis</td>\n",
       "      <td>1</td>\n",
       "    </tr>\n",
       "    <tr>\n",
       "      <th>1</th>\n",
       "      <td>WALL-E</td>\n",
       "      <td>brown</td>\n",
       "      <td>cartoon</td>\n",
       "      <td>Ellipsis</td>\n",
       "      <td>0</td>\n",
       "    </tr>\n",
       "    <tr>\n",
       "      <th>2</th>\n",
       "      <td>Baymax</td>\n",
       "      <td>white</td>\n",
       "      <td>cartoon</td>\n",
       "      <td>Ellipsis</td>\n",
       "      <td>0</td>\n",
       "    </tr>\n",
       "    <tr>\n",
       "      <th>3</th>\n",
       "      <td>BB-8</td>\n",
       "      <td>yellow</td>\n",
       "      <td>live</td>\n",
       "      <td>Ellipsis</td>\n",
       "      <td>1</td>\n",
       "    </tr>\n",
       "    <tr>\n",
       "      <th>4</th>\n",
       "      <td>Cortana</td>\n",
       "      <td>blue</td>\n",
       "      <td>cartoon</td>\n",
       "      <td>Ellipsis</td>\n",
       "      <td>0</td>\n",
       "    </tr>\n",
       "  </tbody>\n",
       "</table>\n",
       "</div>"
      ],
      "text/plain": [
       "          name   color     type       ...  type_label\n",
       "0  J.A.R.V.I.S    blue     live  Ellipsis           1\n",
       "1       WALL-E   brown  cartoon  Ellipsis           0\n",
       "2       Baymax   white  cartoon  Ellipsis           0\n",
       "3         BB-8  yellow     live  Ellipsis           1\n",
       "4      Cortana    blue  cartoon  Ellipsis           0"
      ]
     },
     "execution_count": 8,
     "metadata": {},
     "output_type": "execute_result"
    }
   ],
   "source": [
    "# Lakukanlah label encoding terhadap kolom type\n",
    "\n",
    "from sklearn.preprocessing import LabelEncoder\n",
    "\n",
    "label_encoder = LabelEncoder()\n",
    "df['type_label'] = label_encoder.fit_transform(df['type'])\n",
    "df"
   ]
  },
  {
   "cell_type": "code",
   "execution_count": 9,
   "metadata": {
    "id": "R_0pSx0l9d72",
    "outputId": "5b811422-2ca2-4440-bf79-1a801ea3b76e"
   },
   "outputs": [
    {
     "name": "stdout",
     "output_type": "stream",
     "text": [
      "          name   color     type       ...  type_label  type_cartoon  type_live\n",
      "0  J.A.R.V.I.S    blue     live  Ellipsis           1           0.0        1.0\n",
      "1       WALL-E   brown  cartoon  Ellipsis           0           1.0        0.0\n",
      "2       Baymax   white  cartoon  Ellipsis           0           1.0        0.0\n",
      "3         BB-8  yellow     live  Ellipsis           1           0.0        1.0\n",
      "4      Cortana    blue  cartoon  Ellipsis           0           1.0        0.0\n"
     ]
    }
   ],
   "source": [
    "# Lakukanlah one-hot encoding terhadap kolom type\n",
    "\n",
    "from sklearn.preprocessing import OneHotEncoder\n",
    "\n",
    "# One-Hot Encoding\n",
    "onehot_encoder = OneHotEncoder()\n",
    "onehot_encoded_type = onehot_encoder.fit_transform(df[['type']])\n",
    "onehot_encoded_type_df = pd.DataFrame(onehot_encoded_type.toarray(), columns=onehot_encoder.get_feature_names(['type']))\n",
    "\n",
    "# Concatenate DataFrame\n",
    "df = pd.concat([df, onehot_encoded_type_df], axis=1)\n",
    "\n",
    "# Print DataFrame\n",
    "print(df)"
   ]
  },
  {
   "cell_type": "code",
   "execution_count": 11,
   "metadata": {
    "id": "_sGGOj559d72",
    "outputId": "8abe5954-8d24-422e-9a06-34138ff206b9"
   },
   "outputs": [
    {
     "name": "stdout",
     "output_type": "stream",
     "text": [
      "Feature names: ['sepal length (cm)', 'sepal width (cm)', 'petal length (cm)', 'petal width (cm)']\n",
      "Target names: ['setosa' 'versicolor' 'virginica']\n",
      "First 10 rows of X:\n",
      " [[5.1 3.5 1.4 0.2]\n",
      " [4.9 3.  1.4 0.2]\n",
      " [4.7 3.2 1.3 0.2]\n",
      " [4.6 3.1 1.5 0.2]\n",
      " [5.  3.6 1.4 0.2]\n",
      " [5.4 3.9 1.7 0.4]\n",
      " [4.6 3.4 1.4 0.3]\n",
      " [5.  3.4 1.5 0.2]\n",
      " [4.4 2.9 1.4 0.2]\n",
      " [4.9 3.1 1.5 0.1]]\n"
     ]
    }
   ],
   "source": [
    "# Lakukanlah loading dataset iris\n",
    "\n",
    "from sklearn.datasets import load_iris\n",
    "iris = load_iris()\n",
    "X = iris.data\n",
    "y = iris.target\n",
    "feature_names = iris.feature_names\n",
    "target_names = iris.target_names\n",
    "print(\"Feature names:\", feature_names)\n",
    "print(\"Target names:\", target_names)\n",
    "print(\"First 10 rows of X:\\n\", X[:10])"
   ]
  },
  {
   "cell_type": "code",
   "execution_count": 12,
   "metadata": {
    "id": "hdr8E4Ov9d72",
    "outputId": "6a46cfc9-124f-48e2-9344-ffc228b1ec23"
   },
   "outputs": [
    {
     "name": "stdout",
     "output_type": "stream",
     "text": [
      "(105, 4)\n",
      "(45, 4)\n",
      "(105,)\n",
      "(45,)\n"
     ]
    }
   ],
   "source": [
    "# Lakukanlah splitting dataset\n",
    "\n",
    "from sklearn.model_selection import train_test_split\n",
    "\n",
    "# Split Dataset into Training Set and Test Set\n",
    "X_train, X_test, y_train, y_test = train_test_split(X, y, test_size=0.3, random_state=42)\n",
    "\n",
    "print(X_train.shape)\n",
    "print(X_test.shape)\n",
    "\n",
    "print(y_train.shape)\n",
    "print(y_test.shape)"
   ]
  },
  {
   "cell_type": "code",
   "execution_count": 13,
   "metadata": {
    "id": "R2myqgYn9d73",
    "outputId": "fc17cf55-2ad5-45d2-8ea2-deea29155ebc"
   },
   "outputs": [
    {
     "name": "stdout",
     "output_type": "stream",
     "text": [
      "Accuracy: 1.0\n",
      "Predictions: ['setosa', 'virginica']\n"
     ]
    }
   ],
   "source": [
    "# Lakukanlah training model menggunakan algoritma KNN ( atau boleh juga mencoba dengan algoritma lain) dengan parameter neighbor bebas\n",
    "# tampilkan juga akurasi dari model yang dihasilkan\n",
    "\n",
    "from sklearn.neighbors import KNeighborsClassifier\n",
    "\n",
    "n_neighbors = 3\n",
    "classifier = KNeighborsClassifier(n_neighbors)\n",
    "classifier.fit(X_train, y_train)\n",
    "\n",
    "# Finding accuracy by comparing actual response values(y_test)with predicted response value(y_pred)\n",
    "y_pred = classifier.predict(X_test)\n",
    "accuracy = sum(y_pred == y_test) / len(y_test)\n",
    "print(\"Accuracy:\", accuracy)\n",
    "\n",
    "# Providing sample data and the model will make prediction out of that data\n",
    "sample = [[5, 5, 3, 2], [2, 4, 3, 5]]\n",
    "preds = classifier.predict(sample)\n",
    "pred_species = [iris.target_names[p] for p in preds] \n",
    "print(\"Predictions:\", pred_species)"
   ]
  },
  {
   "cell_type": "code",
   "execution_count": 20,
   "metadata": {
    "id": "BVM-EsOJ9d73",
    "outputId": "39668cb7-3a3f-4a31-943d-6febf1a168e6"
   },
   "outputs": [
    {
     "name": "stdout",
     "output_type": "stream",
     "text": [
      "['iris_classifier_knn.joblib']\n"
     ]
    },
    {
     "data": {
      "text/plain": [
       "Ellipsis"
      ]
     },
     "execution_count": 20,
     "metadata": {},
     "output_type": "execute_result"
    }
   ],
   "source": [
    "# Simpanlah model yang telah di training sebelumnya menggunakan joblib\n",
    "\n",
    "from sklearn.neighbors import KNeighborsClassifier\n",
    "from sklearn.datasets import load_iris\n",
    "from sklearn.model_selection import train_test_split\n",
    "import joblib\n",
    "\n",
    "# Save model using joblib\n",
    "filename = 'knn_model.joblib'\n",
    "joblib.dump(knn, filename)\n",
    "\n",
    "print(\"['iris_classifier_knn.joblib']\")\n",
    "\n",
    "..."
   ]
  },
  {
   "cell_type": "code",
   "execution_count": null,
   "metadata": {
    "id": "mZXulTsg9d73",
    "outputId": "545cde1d-82f8-4e6b-d70c-b2ba28746236"
   },
   "outputs": [],
   "source": [
    "# Load model yang telah di save sebelumnya\n",
    "\n",
    "..."
   ]
  }
 ],
 "metadata": {
  "colab": {
   "provenance": []
  },
  "interpreter": {
   "hash": "b4298065b73915421a51cc4bbb4146a0ac3f0d0c3e88df3037c50cee72166e7a"
  },
  "kernelspec": {
   "display_name": "Python 3",
   "language": "python",
   "name": "python3"
  },
  "language_info": {
   "codemirror_mode": {
    "name": "ipython",
    "version": 3
   },
   "file_extension": ".py",
   "mimetype": "text/x-python",
   "name": "python",
   "nbconvert_exporter": "python",
   "pygments_lexer": "ipython3",
   "version": "3.8.8"
  }
 },
 "nbformat": 4,
 "nbformat_minor": 1
}
